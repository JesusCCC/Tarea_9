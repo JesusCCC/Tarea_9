{
  "nbformat": 4,
  "nbformat_minor": 0,
  "metadata": {
    "colab": {
      "name": "Tarea9.ipynb",
      "provenance": []
    },
    "kernelspec": {
      "name": "python3",
      "display_name": "Python 3"
    },
    "language_info": {
      "name": "python"
    }
  },
  "cells": [
    {
      "cell_type": "code",
      "metadata": {
        "id": "n6sdfZS5MlVJ"
      },
      "source": [
        "class StackADT:\n",
        "    def __init__(self):\n",
        "        self.__data = list()\n",
        "\n",
        "    def is_empty(self): #Regresa TRUE si la pila esta vacia.\n",
        "         return len(self.__data) == 0\n",
        "    \n",
        "    def get_length(self):\n",
        "        return len(self.__data)\n",
        "\n",
        "    def pop(self):\n",
        "        if self.is_empty():\n",
        "            print(\"Pila vacia, nada que sacar\")\n",
        "        else:\n",
        "            return self.__data.pop()\n",
        "    \n",
        "    def peek(self):\n",
        "        if self.is_empty():\n",
        "            print(\"Pila vacia, nada que sacar\")\n",
        "        else:\n",
        "            return self.__data[-1]\n",
        "\n",
        "    def push(self, value):\n",
        "        self.__data.append(value)\n",
        "\n",
        "    def to_string(self):\n",
        "        for item in self.__data:\n",
        "            print(f\"| {item} |\")"
      ],
      "execution_count": 3,
      "outputs": []
    },
    {
      "cell_type": "code",
      "metadata": {
        "id": "dO-LkQe9NlvW"
      },
      "source": [
        "\"\"\"\n",
        "code.txt\n",
        "\n",
        "#include <stdio.h>\n",
        "int main()\n",
        "{\n",
        "    int num, count, sum = 0;\n",
        "\n",
        "    printf(\"Enter a positive integer: \");\n",
        "    scanf(\"%d\", &num);\n",
        "\n",
        "    // for loop terminates when num is less than count\n",
        "    for(count = 1; count <= num; ++count)\n",
        "    {\n",
        "        sum += count;\n",
        "    }\n",
        "\n",
        "    printf(\"Sum = %d\", sum);\n",
        "\n",
        "    return 0;\n",
        "}\n",
        "\"\"\""
      ],
      "execution_count": null,
      "outputs": []
    },
    {
      "cell_type": "code",
      "metadata": {
        "colab": {
          "base_uri": "https://localhost:8080/"
        },
        "id": "5qwGjzG2Mfui",
        "outputId": "48589d3c-9d99-4a83-9bd5-9279aaecb69b"
      },
      "source": [
        "entrada= open('code.txt', 'rt')\n",
        "codigo = entrada.read()\n",
        "pilaControl=StackADT()\n",
        "pilaControl.push(\"#\") \n",
        "\n",
        "for letra in codigo :\n",
        "    if letra == '{' :\n",
        "        pilaControl.push('{') \n",
        "    elif letra == '}' :\n",
        "        if pilaControl.peek() == '#' :\n",
        "            pilaControl.push('{')\n",
        "            pass \n",
        "        else :\n",
        "            basura = pilaControl.pop() \n",
        "    elif letra == '(' :\n",
        "        pilaControl.push('(')\n",
        "    elif letra == ')' :\n",
        "        if pilaControl.peek() == '#' :\n",
        "            pilaControl.push('(')\n",
        "            pass \n",
        "        else :\n",
        "            basura = pilaControl.pop()\n",
        "    else :\n",
        "        pass\n",
        " \n",
        "if pilaControl.peek() == '#' :\n",
        "    print(\"El código proporcionado esta correctamente balanceado.\")\n",
        "else :\n",
        "    print(\"El código no esta balanceado en paréntesis ( y ) o en llaves { y }.\")"
      ],
      "execution_count": 6,
      "outputs": [
        {
          "output_type": "stream",
          "name": "stdout",
          "text": [
            "El código proporcionado esta correctamente balanceado.\n"
          ]
        }
      ]
    }
  ]
}